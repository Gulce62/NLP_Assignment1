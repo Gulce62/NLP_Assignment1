{
 "cells": [
  {
   "cell_type": "code",
   "execution_count": 1,
   "metadata": {
    "collapsed": true
   },
   "outputs": [],
   "source": [
    "import os\n",
    "import re\n",
    "import nltk"
   ]
  },
  {
   "cell_type": "code",
   "execution_count": 2,
   "outputs": [],
   "source": [
    "def readTxtFile(filePath):\n",
    "    # read a txt file with the given path\n",
    "    with open(filePath, 'r', encoding='utf8', errors='ignore') as f:\n",
    "        txtFile = f.read()\n",
    "    return txtFile"
   ],
   "metadata": {
    "collapsed": false
   }
  },
  {
   "cell_type": "code",
   "execution_count": 3,
   "outputs": [],
   "source": [
    "def writeTxtFile(filePath, text):\n",
    "    # write into a txt file with the given text\n",
    "    with open(filePath, 'w', encoding='utf8', errors='ignore') as f:\n",
    "        f.truncate(0)\n",
    "        f.write(text)"
   ],
   "metadata": {
    "collapsed": false
   }
  },
  {
   "cell_type": "code",
   "execution_count": 4,
   "outputs": [],
   "source": [
    "def createFrequencyDict(words):\n",
    "    freqDict = {}\n",
    "    for word in words:\n",
    "        if word in freqDict:\n",
    "            freqDict[word] += 1\n",
    "        else:\n",
    "            freqDict[word] = 1\n",
    "    return freqDict"
   ],
   "metadata": {
    "collapsed": false
   }
  },
  {
   "cell_type": "code",
   "execution_count": 5,
   "outputs": [],
   "source": [
    "def tokenize(text):\n",
    "    # get rid of every punctuation marks\n",
    "    text = re.sub(r'[^\\w\\s]|_', '', text)  # TODO maybe you can divide to '' and ' '\n",
    "    # cast every word to lowercase\n",
    "    words = text.lower().split()\n",
    "    text = ' '.join(words)\n",
    "    freqDict = createFrequencyDict(words)\n",
    "    return text, freqDict"
   ],
   "metadata": {
    "collapsed": false
   }
  },
  {
   "cell_type": "code",
   "execution_count": 6,
   "outputs": [],
   "source": [
    "def getStopWordsList():\n",
    "    nltk.download('stopwords')\n",
    "    stopWords = nltk.corpus.stopwords.words('english')\n",
    "    for w in range(len(stopWords)):\n",
    "        word = stopWords[w].replace(\"'\", \"\")\n",
    "        stopWords[w] = word\n",
    "    return stopWords"
   ],
   "metadata": {
    "collapsed": false
   }
  },
  {
   "cell_type": "code",
   "execution_count": 7,
   "outputs": [],
   "source": [
    "def removeStopWords(text, stopWords):\n",
    "    words = text.split()\n",
    "    removedWords = [word for word in words if word not in stopWords]\n",
    "    removedText = ' '.join(removedWords)\n",
    "    freqDict = createFrequencyDict(removedWords)\n",
    "    return removedText, freqDict"
   ],
   "metadata": {
    "collapsed": false
   }
  },
  {
   "cell_type": "code",
   "execution_count": 8,
   "outputs": [
    {
     "name": "stderr",
     "output_type": "stream",
     "text": [
      "[nltk_data] Downloading package stopwords to\n",
      "[nltk_data]     C:\\Users\\gulce\\AppData\\Roaming\\nltk_data...\n",
      "[nltk_data]   Package stopwords is already up-to-date!\n"
     ]
    }
   ],
   "source": [
    "stopWords = getStopWordsList()"
   ],
   "metadata": {
    "collapsed": false
   }
  },
  {
   "cell_type": "code",
   "execution_count": 9,
   "outputs": [],
   "source": [
    "directoryPath = r'Books'\n",
    "tokenizedPath = r'TokenizedBooks'\n",
    "stopRemovedPath = r'StopRemovedBooks'"
   ],
   "metadata": {
    "collapsed": false
   }
  },
  {
   "cell_type": "code",
   "execution_count": 10,
   "outputs": [],
   "source": [
    "tokenizedFrequencies = []\n",
    "stopRemovedFrequencies = []"
   ],
   "metadata": {
    "collapsed": false
   }
  },
  {
   "cell_type": "code",
   "execution_count": 11,
   "outputs": [],
   "source": [
    "for book in os.listdir(directoryPath):\n",
    "    bookPath = os.path.join(directoryPath, book)\n",
    "    tokenizedBookPath = os.path.join(tokenizedPath, book)\n",
    "    stopRemovedBookPath = os.path.join(stopRemovedPath, book)\n",
    "\n",
    "    txtBook = readTxtFile(bookPath)\n",
    "\n",
    "    tokenizedText, tokenizedFreqDict = tokenize(txtBook)\n",
    "    writeTxtFile(tokenizedBookPath, tokenizedText)\n",
    "    tokenizedFrequencies.append(tokenizedFreqDict)\n",
    "\n",
    "    stopRemovedText, stopRemovedFreqDict = removeStopWords(tokenizedText, stopWords)\n",
    "    writeTxtFile(stopRemovedBookPath, stopRemovedText)\n",
    "    stopRemovedFrequencies.append(stopRemovedFreqDict)"
   ],
   "metadata": {
    "collapsed": false
   }
  }
 ],
 "metadata": {
  "kernelspec": {
   "display_name": "Python 3",
   "language": "python",
   "name": "python3"
  },
  "language_info": {
   "codemirror_mode": {
    "name": "ipython",
    "version": 2
   },
   "file_extension": ".py",
   "mimetype": "text/x-python",
   "name": "python",
   "nbconvert_exporter": "python",
   "pygments_lexer": "ipython2",
   "version": "2.7.6"
  }
 },
 "nbformat": 4,
 "nbformat_minor": 0
}
