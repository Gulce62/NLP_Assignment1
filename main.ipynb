{
 "cells": [
  {
   "cell_type": "code",
   "execution_count": 1,
   "metadata": {
    "collapsed": true
   },
   "outputs": [],
   "source": [
    "import os\n",
    "import re\n",
    "import nltk"
   ]
  },
  {
   "cell_type": "code",
   "execution_count": 2,
   "outputs": [],
   "source": [
    "def readTxtFile(filePath):\n",
    "    # read a txt file with the given path\n",
    "    with open(filePath, 'r', encoding='utf8', errors='ignore') as f:\n",
    "        txtFile = f.read()\n",
    "    return txtFile"
   ],
   "metadata": {
    "collapsed": false
   }
  },
  {
   "cell_type": "code",
   "execution_count": 3,
   "outputs": [],
   "source": [
    "def writeTxtFile(filePath, text):\n",
    "    # write into a txt file with the given text\n",
    "    with open(filePath, 'a', encoding='utf8', errors='ignore') as f:\n",
    "        # f.truncate(0) # clear the file if it not empty\n",
    "        f.write(text)"
   ],
   "metadata": {
    "collapsed": false
   }
  },
  {
   "cell_type": "code",
   "execution_count": 4,
   "outputs": [],
   "source": [
    "def getStopWordsList():\n",
    "    # download the NLTK stop-word list\n",
    "    nltk.download('stopwords') # TODO ask if we can use this library\n",
    "    stopWords = nltk.corpus.stopwords.words('english')\n",
    "    for w in range(len(stopWords)):\n",
    "        # replace the apostrophes to make the list compatible with the corpus\n",
    "        word = stopWords[w].replace(\"'\", \"\")\n",
    "        stopWords[w] = word\n",
    "    return stopWords"
   ],
   "metadata": {
    "collapsed": false
   }
  },
  {
   "cell_type": "code",
   "execution_count": 5,
   "outputs": [
    {
     "name": "stderr",
     "output_type": "stream",
     "text": [
      "[nltk_data] Downloading package stopwords to\n",
      "[nltk_data]     C:\\Users\\gulce\\AppData\\Roaming\\nltk_data...\n",
      "[nltk_data]   Package stopwords is already up-to-date!\n"
     ]
    }
   ],
   "source": [
    "stopWords = getStopWordsList()"
   ],
   "metadata": {
    "collapsed": false
   }
  },
  {
   "cell_type": "code",
   "execution_count": 6,
   "outputs": [],
   "source": [
    "def getWord2Freq(words):\n",
    "    word2Freq = {}\n",
    "    for word in words:\n",
    "        if word in word2Freq:\n",
    "            word2Freq[word] += 1\n",
    "        else:\n",
    "            word2Freq[word] = 1\n",
    "    return word2Freq"
   ],
   "metadata": {
    "collapsed": false
   }
  },
  {
   "cell_type": "code",
   "execution_count": 7,
   "outputs": [],
   "source": [
    "def getWord2Rank(word2Freq):\n",
    "    count = 1\n",
    "    word2Rank = {}\n",
    "    sortedFreq = sorted(word2Freq.items(), key=lambda x: x[1], reverse=True)\n",
    "    for key, value in sortedFreq:\n",
    "        word2Rank[key] = count\n",
    "        count += 1\n",
    "    return word2Rank"
   ],
   "metadata": {
    "collapsed": false
   }
  },
  {
   "cell_type": "code",
   "execution_count": 8,
   "outputs": [],
   "source": [
    "def tokenize(text):\n",
    "    # get rid of every punctuation marks via regular expressions\n",
    "    text = text.replace(r\"’\", '')\n",
    "    text = re.sub(r'[^\\w\\s]|_', ' ', text)\n",
    "    # cast every word to lowercase\n",
    "    words = text.lower().split()\n",
    "    text = ' '.join(words)\n",
    "    word2Freq = getWord2Freq(words)\n",
    "    return text, word2Freq"
   ],
   "metadata": {
    "collapsed": false
   }
  },
  {
   "cell_type": "code",
   "execution_count": 9,
   "outputs": [],
   "source": [
    "def removeStopWords(text, stopWords):\n",
    "    words = text.split()\n",
    "    removedWords = [word for word in words if word not in stopWords]\n",
    "    removedText = ' '.join(removedWords)\n",
    "    word2Freq = getWord2Freq(removedWords)\n",
    "    return removedText, word2Freq"
   ],
   "metadata": {
    "collapsed": false
   }
  },
  {
   "cell_type": "code",
   "execution_count": 10,
   "outputs": [],
   "source": [
    "directoryPath = r'Books'\n",
    "tokenizedPathB = r'TokenizedBooks'\n",
    "tokenizedPathA = r'TokenizedAuthors'\n",
    "tokenizedPathT = r'TokenizedTypes'\n",
    "stopRemovedPathB = r'StopRemovedBooks'\n",
    "stopRemovedPathA = r'StopRemovedAuthors'\n",
    "stopRemovedPathT = r'StopRemovedTypes'"
   ],
   "metadata": {
    "collapsed": false
   }
  },
  {
   "cell_type": "code",
   "execution_count": 11,
   "outputs": [],
   "source": [
    "tokenizedBookDicts = []\n",
    "tokenizedAuthorDicts = []\n",
    "tokenizedTypeDicts = []\n",
    "stopRemovedBookDicts = []\n",
    "stopRemovedAuthorDicts = []\n",
    "stopRemovedTypeDicts = []"
   ],
   "metadata": {
    "collapsed": false
   }
  },
  {
   "cell_type": "code",
   "execution_count": 12,
   "outputs": [],
   "source": [
    "currentAuthorFreqDictT = {}\n",
    "currentAuthorFreqDictS = {}\n",
    "currentTypeFreqDictT = {}\n",
    "currentTypeFreqDictS = {}"
   ],
   "metadata": {
    "collapsed": false
   }
  },
  {
   "cell_type": "code",
   "execution_count": 13,
   "outputs": [],
   "source": [
    "count = 0\n",
    "for book in os.listdir(directoryPath):\n",
    "    bookPath = os.path.join(directoryPath, book)\n",
    "    tokenizedBookPath = os.path.join(tokenizedPathB, book)\n",
    "    stopRemovedBookPath = os.path.join(stopRemovedPathB, book)\n",
    "\n",
    "    txtBook = readTxtFile(bookPath)\n",
    "\n",
    "    tokenizedText, tokenizedWord2Freq = tokenize(txtBook)\n",
    "    writeTxtFile(tokenizedBookPath, tokenizedText)\n",
    "    tokenizedBookDicts.append(tokenizedWord2Freq)\n",
    "\n",
    "    stopRemovedText, stopRemovedWord2Freq = removeStopWords(tokenizedText, stopWords)\n",
    "    writeTxtFile(stopRemovedBookPath, stopRemovedText)\n",
    "    stopRemovedBookDicts.append(stopRemovedWord2Freq)\n",
    "\n",
    "    option = book.split('_')[0]\n",
    "\n",
    "    if option == 'A':\n",
    "        authorName = book.split('_')[1]\n",
    "        tokenizedAuthorPath = os.path.join(tokenizedPathA, authorName)\n",
    "        stopRemovedAuthorPath = os.path.join(stopRemovedPathA, authorName)\n",
    "        writeTxtFile(tokenizedAuthorPath, tokenizedText)\n",
    "        writeTxtFile(stopRemovedAuthorPath, tokenizedText)\n",
    "\n",
    "        currentAuthorFreqDictT = {k: currentAuthorFreqDictT.get(k, 0) + tokenizedWord2Freq.get(k, 0) for k in set(currentAuthorFreqDictT) | set(tokenizedWord2Freq)}\n",
    "        currentAuthorFreqDictS = {k: currentAuthorFreqDictS.get(k, 0) + stopRemovedWord2Freq.get(k, 0) for k in set(currentAuthorFreqDictS) | set(stopRemovedWord2Freq)}\n",
    "\n",
    "        if count % 3 == 0:\n",
    "            tokenizedAuthorDicts.append(currentAuthorFreqDictT)\n",
    "            stopRemovedAuthorDicts.append(currentAuthorFreqDictS)\n",
    "            currentAuthorFreqDictT = {}\n",
    "            currentAuthorFreqDictS = {}\n",
    "\n",
    "    elif option == 'T':\n",
    "        typeName = book.split('_')[1]\n",
    "        tokenizedTypePath = os.path.join(tokenizedPathT, typeName)\n",
    "        stopRemovedTypePath = os.path.join(stopRemovedPathT, typeName)\n",
    "        writeTxtFile(tokenizedTypePath, tokenizedText)\n",
    "        writeTxtFile(stopRemovedTypePath, tokenizedText)\n",
    "\n",
    "        currentTypeFreqDictT = {k: currentTypeFreqDictT.get(k, 0) + tokenizedWord2Freq.get(k, 0) for k in set(currentTypeFreqDictT) | set(tokenizedWord2Freq)}\n",
    "        currentTypeFreqDictS = {k: currentTypeFreqDictS.get(k, 0) + stopRemovedWord2Freq.get(k, 0) for k in set(currentTypeFreqDictS) | set(stopRemovedWord2Freq)}\n",
    "\n",
    "        if count % 3 == 0:\n",
    "            tokenizedTypeDicts.append(currentTypeFreqDictT)\n",
    "            stopRemovedTypeDicts.append(currentTypeFreqDictS)\n",
    "            currentTypeFreqDictT = {}\n",
    "            currentTypeFreqDictS = {}\n",
    "\n",
    "    count += 1"
   ],
   "metadata": {
    "collapsed": false
   }
  }
 ],
 "metadata": {
  "kernelspec": {
   "display_name": "Python 3",
   "language": "python",
   "name": "python3"
  },
  "language_info": {
   "codemirror_mode": {
    "name": "ipython",
    "version": 2
   },
   "file_extension": ".py",
   "mimetype": "text/x-python",
   "name": "python",
   "nbconvert_exporter": "python",
   "pygments_lexer": "ipython2",
   "version": "2.7.6"
  }
 },
 "nbformat": 4,
 "nbformat_minor": 0
}
